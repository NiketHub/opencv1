{
 "cells": [
  {
   "cell_type": "markdown",
   "id": "e9dcd397",
   "metadata": {},
   "source": [
    "# Task 4.3: Create collage of two images"
   ]
  },
  {
   "cell_type": "code",
   "execution_count": 17,
   "id": "5438c630",
   "metadata": {},
   "outputs": [],
   "source": [
    "# load cv2 & numpy\n",
    "import cv2"
   ]
  },
  {
   "cell_type": "code",
   "execution_count": 18,
   "id": "d5ff3a70",
   "metadata": {},
   "outputs": [],
   "source": [
    "import numpy "
   ]
  },
  {
   "cell_type": "code",
   "execution_count": 19,
   "id": "beab6339",
   "metadata": {},
   "outputs": [],
   "source": [
    "# Read  first image\n",
    "one = cv2.imread('d.jpg')"
   ]
  },
  {
   "cell_type": "code",
   "execution_count": 20,
   "id": "bf648c69",
   "metadata": {},
   "outputs": [
    {
     "data": {
      "text/plain": [
       "(180, 180, 3)"
      ]
     },
     "execution_count": 20,
     "metadata": {},
     "output_type": "execute_result"
    }
   ],
   "source": [
    "# check the shape of image\n",
    "one.shape"
   ]
  },
  {
   "cell_type": "code",
   "execution_count": 21,
   "id": "6af5d67f",
   "metadata": {},
   "outputs": [],
   "source": [
    "# Read second image\n",
    "two = cv2.imread('dr.jpg')"
   ]
  },
  {
   "cell_type": "code",
   "execution_count": 22,
   "id": "928dd36b",
   "metadata": {},
   "outputs": [
    {
     "data": {
      "text/plain": [
       "(180, 180, 3)"
      ]
     },
     "execution_count": 22,
     "metadata": {},
     "output_type": "execute_result"
    }
   ],
   "source": [
    "# check the shape of image\n",
    "two.shape"
   ]
  },
  {
   "cell_type": "code",
   "execution_count": 23,
   "id": "5f9bf88b",
   "metadata": {},
   "outputs": [],
   "source": [
    "# Create collage\n",
    "photo = numpy.hstack((one,two))"
   ]
  },
  {
   "cell_type": "code",
   "execution_count": null,
   "id": "54044d0d",
   "metadata": {},
   "outputs": [],
   "source": [
    "# show image\n",
    "cv2.imshow(\"Collage\", photo)\n",
    "cv2.waitKey()\n",
    "cv2.destroyAllWindows()"
   ]
  },
  {
   "cell_type": "code",
   "execution_count": null,
   "id": "83d43ba1",
   "metadata": {},
   "outputs": [],
   "source": []
  },
  {
   "cell_type": "code",
   "execution_count": null,
   "id": "1e1a5bf2",
   "metadata": {},
   "outputs": [],
   "source": []
  }
 ],
 "metadata": {
  "kernelspec": {
   "display_name": "Python 3",
   "language": "python",
   "name": "python3"
  },
  "language_info": {
   "codemirror_mode": {
    "name": "ipython",
    "version": 3
   },
   "file_extension": ".py",
   "mimetype": "text/x-python",
   "name": "python",
   "nbconvert_exporter": "python",
   "pygments_lexer": "ipython3",
   "version": "3.8.8"
  }
 },
 "nbformat": 4,
 "nbformat_minor": 5
}
