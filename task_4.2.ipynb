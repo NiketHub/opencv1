{
 "cells": [
  {
   "cell_type": "markdown",
   "id": "c956c6a4",
   "metadata": {},
   "source": [
    "# Task 4.2: Swap face of person from two images"
   ]
  },
  {
   "cell_type": "code",
   "execution_count": 52,
   "id": "f5f776d8",
   "metadata": {},
   "outputs": [],
   "source": [
    "#import cv2 & numpy array library\n",
    "import cv2"
   ]
  },
  {
   "cell_type": "code",
   "execution_count": 53,
   "id": "d5ff3a70",
   "metadata": {},
   "outputs": [],
   "source": [
    "import numpy as np"
   ]
  },
  {
   "cell_type": "code",
   "execution_count": 54,
   "id": "10f288f0",
   "metadata": {},
   "outputs": [],
   "source": [
    "#load your image : doremon_pic\n",
    "photo = cv2.imread('doremon.jpg')"
   ]
  },
  {
   "cell_type": "code",
   "execution_count": 55,
   "id": "4eaa8986",
   "metadata": {},
   "outputs": [],
   "source": [
    "#open your loaded image and press enter to close your image\n",
    "cv2.imshow(\"dora\", photo)\n",
    "cv2.waitKey()\n",
    "cv2.destroyAllWindows()"
   ]
  },
  {
   "cell_type": "code",
   "execution_count": 56,
   "id": "7b7494fd",
   "metadata": {},
   "outputs": [],
   "source": [
    "#co-ordinates of image\n",
    "nx1 = 50\n",
    "ny1 = 0\n",
    "nx2 = 420\n",
    "ny2 = 240"
   ]
  },
  {
   "cell_type": "code",
   "execution_count": 57,
   "id": "ebe0e77e",
   "metadata": {},
   "outputs": [],
   "source": [
    "#crop ur image a/c co-ordinates\n",
    "cp = photo[ny1:ny2, nx1:nx2]\n"
   ]
  },
  {
   "cell_type": "code",
   "execution_count": 58,
   "id": "025b35c6",
   "metadata": {},
   "outputs": [],
   "source": [
    "#show cropped image\n",
    "cv2.imshow(\"dora\", cp)\n",
    "cv2.waitKey()\n",
    "cv2.destroyAllWindows()"
   ]
  },
  {
   "cell_type": "code",
   "execution_count": 59,
   "id": "e0dcd2a5",
   "metadata": {},
   "outputs": [],
   "source": [
    "#load your image : doremi_pic\n",
    "image = cv2.imread('doremi.jpg')"
   ]
  },
  {
   "cell_type": "code",
   "execution_count": 61,
   "id": "86fe0947",
   "metadata": {},
   "outputs": [],
   "source": [
    "#open your loaded image and press enter to close your image\n",
    "cv2.imshow(\"dori\", image)\n",
    "cv2.waitKey()\n",
    "cv2.destroyAllWindows()"
   ]
  },
  {
   "cell_type": "code",
   "execution_count": 62,
   "id": "509df404",
   "metadata": {},
   "outputs": [],
   "source": [
    "#co-ordinates of image\n",
    "rx1 = 20\n",
    "ry1 = 0\n",
    "rx2 = 420\n",
    "ry2 = 240"
   ]
  },
  {
   "cell_type": "code",
   "execution_count": 63,
   "id": "27b00243",
   "metadata": {},
   "outputs": [],
   "source": [
    "#crop ur image a/c co-ordinates\n",
    "np = image[ry1:ry2, rx1:rx2]"
   ]
  },
  {
   "cell_type": "code",
   "execution_count": 64,
   "id": "57570777",
   "metadata": {},
   "outputs": [],
   "source": [
    "#show cropped image\n",
    "cv2.imshow(\"dori\", np)\n",
    "cv2.waitKey()\n",
    "cv2.destroyAllWindows()"
   ]
  },
  {
   "cell_type": "code",
   "execution_count": 65,
   "id": "e8291621",
   "metadata": {},
   "outputs": [
    {
     "data": {
      "text/plain": [
       "(240, 310, 3)"
      ]
     },
     "execution_count": 65,
     "metadata": {},
     "output_type": "execute_result"
    }
   ],
   "source": [
    "#you can check ur cropped image numpy array shape : 3-d\n",
    "cp.shape"
   ]
  },
  {
   "cell_type": "code",
   "execution_count": 66,
   "id": "f632dd89",
   "metadata": {},
   "outputs": [
    {
     "data": {
      "text/plain": [
       "(240, 310, 3)"
      ]
     },
     "execution_count": 66,
     "metadata": {},
     "output_type": "execute_result"
    }
   ],
   "source": [
    "#shape of cropped image\n",
    "np.shape"
   ]
  },
  {
   "cell_type": "code",
   "execution_count": 67,
   "id": "ca1fee54",
   "metadata": {},
   "outputs": [],
   "source": [
    "# Swap the face doremon == doremi\n",
    "photo = cv2.imread('doremon.jpg')\n",
    "photo[ny1:ny2, nx1:nx2] = np\n",
    "\n",
    "# show swapped image\n",
    "cv2.imshow(\"dora\", photo)\n",
    "cv2.waitKey()\n",
    "cv2.destroyAllWindows()"
   ]
  },
  {
   "cell_type": "code",
   "execution_count": null,
   "id": "476af764",
   "metadata": {},
   "outputs": [],
   "source": [
    "# swap the face doremi == doremon\n",
    "image = cv2.imread('doremi.jpg')\n",
    "image[ry1:ry2, rx1:rx2] = cp\n",
    "\n",
    "# Display Image\n",
    "cv2.imshow(\"dorri\", image)\n",
    "cv2.waitKey()\n",
    "cv2.destroyAllWindows()"
   ]
  },
  {
   "cell_type": "code",
   "execution_count": null,
   "id": "4f3db3fb",
   "metadata": {},
   "outputs": [],
   "source": []
  }
 ],
 "metadata": {
  "kernelspec": {
   "display_name": "Python 3",
   "language": "python",
   "name": "python3"
  },
  "language_info": {
   "codemirror_mode": {
    "name": "ipython",
    "version": 3
   },
   "file_extension": ".py",
   "mimetype": "text/x-python",
   "name": "python",
   "nbconvert_exporter": "python",
   "pygments_lexer": "ipython3",
   "version": "3.8.8"
  }
 },
 "nbformat": 4,
 "nbformat_minor": 5
}
